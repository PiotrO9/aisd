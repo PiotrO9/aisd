{
 "cells": [
  {
   "attachments": {},
   "cell_type": "markdown",
   "metadata": {},
   "source": [
    "Do operacji na grafach posłuży biblioteka networkx."
   ]
  },
  {
   "cell_type": "code",
   "execution_count": 1,
   "metadata": {},
   "outputs": [],
   "source": [
    "import networkx as nx"
   ]
  },
  {
   "attachments": {},
   "cell_type": "markdown",
   "metadata": {},
   "source": [
    "Pusty graf tworzy się przy pomocy wywołania konstruktora Graph."
   ]
  },
  {
   "cell_type": "code",
   "execution_count": 21,
   "metadata": {},
   "outputs": [],
   "source": [
    "G = nx.Graph()"
   ]
  },
  {
   "attachments": {},
   "cell_type": "markdown",
   "metadata": {},
   "source": [
    "W celu dodania pojedynczego wierzchołka do grafu służy metoda add_node(). Do metody przekazujemy pojedynczą wartość, która posłuży jako etykieta dla wierzchołka.\n",
    "\n",
    "Można jednocześnie dodać również wiele wierzchołków przy pomocy metody add_nodes_from(), do której przekazuje się np. listę (musi to być struktura iterowalna), z której każdy kolejny element będzie służył za wierzchołek."
   ]
  },
  {
   "cell_type": "code",
   "execution_count": 23,
   "metadata": {},
   "outputs": [],
   "source": [
    "G.add_node(1) #dodanie wierzchołka o etykiecie 1\n",
    "G.add_nodes_from([2,3]) #dodanie dwóch wierzchołków 2 i 3."
   ]
  },
  {
   "attachments": {},
   "cell_type": "markdown",
   "metadata": {},
   "source": [
    "Wierzchołki mogą przechowywać dodatkowo wartości. Wierzchołek z atrybutem przekazuje się w postaci krotki, gdzie pierwsza wartość krotki to etykieta, a druga wartość to słownik z nazwą i wartością."
   ]
  },
  {
   "cell_type": "code",
   "execution_count": 27,
   "metadata": {},
   "outputs": [],
   "source": [
    "G.add_nodes_from([\n",
    "    (4, {\"color\" : \"green\"}), #dodanie wierzchołka 4 przechowującego dodatkowo atrybut color o wartości green\n",
    "    (5, {\"color\" : \"blue\"}) #dodanie wierzchołka 5 przechowującego dodatkowo atrybut color o wartości blue\n",
    "])"
   ]
  },
  {
   "cell_type": "code",
   "execution_count": 29,
   "metadata": {},
   "outputs": [],
   "source": [
    "H = nx.Graph()\n",
    "\n",
    "H.add_nodes_from([6,7,8,9,10,11])"
   ]
  },
  {
   "attachments": {},
   "cell_type": "markdown",
   "metadata": {},
   "source": [
    "Dodatkowo do metody add_nodes_from można przekazać inny graf. Dzięki temu wierzchołki zostaną dodane do docelowego grafu. "
   ]
  },
  {
   "cell_type": "code",
   "execution_count": 32,
   "metadata": {},
   "outputs": [],
   "source": [
    "G.add_nodes_from(H)"
   ]
  },
  {
   "cell_type": "code",
   "execution_count": null,
   "metadata": {},
   "outputs": [],
   "source": [
    "for i in G:\n",
    "    print(i)"
   ]
  },
  {
   "attachments": {},
   "cell_type": "markdown",
   "metadata": {},
   "source": [
    "Krawędzi pomiędzy wierzchołkami dodaje się przy pomocy metody add_edge. Przekazane zostają dwa argumenty, które służą do wskazania etykiet wierzchołków, pomiędzy którymi ma znaleźć się krawędź."
   ]
  },
  {
   "cell_type": "code",
   "execution_count": 41,
   "metadata": {},
   "outputs": [],
   "source": [
    "G.add_edge(1, 2) #dodanie krawędzi pomiędzy wierzchołkami 1 i 2\n",
    "G.add_edge(2,1) #ze względu na to, że nie jest to graf, w którym kierunek ma znaczenie, to ta krawędź nie zostanie dodana, bo istnieje już krawędź pomiędzy wierzchołkami 1 i 2."
   ]
  },
  {
   "attachments": {},
   "cell_type": "markdown",
   "metadata": {},
   "source": [
    "Tak jak w przypadku wierzchołków istnieje metoda, która pozwala na dodawanie jednocześnie wielu krawędzi. add_edges_from również przyjmuje iterowalną strukturę, do której w postaci krotek dodaje się kolejne krawędzi. Jeżeli wierzchołek nie istnieje w trakcie dodawania krawędzi, to zostanie on automatycznie dodany."
   ]
  },
  {
   "cell_type": "code",
   "execution_count": 39,
   "metadata": {},
   "outputs": [],
   "source": [
    "G.add_edges_from([(1,3), (2,3)]) #dodanie krawędzi pomiędzy wierzchołkami 1 - 3 i 2 - 3."
   ]
  },
  {
   "cell_type": "code",
   "execution_count": null,
   "metadata": {},
   "outputs": [],
   "source": [
    "print(G.edges([1])) #wyświetlenie wszystkich krawędzi, które przylegają do danego wierzchołka."
   ]
  },
  {
   "cell_type": "code",
   "execution_count": null,
   "metadata": {},
   "outputs": [],
   "source": [
    "print(f\"Liczba wierzchołków: {G.number_of_nodes()}\") #dostęp do liczby wierzchołków w grafie\n",
    "print(f\"Liczba krawędzi: {G.number_of_edges()}\") #dostęp do liczby krawędzi w grafie"
   ]
  },
  {
   "cell_type": "code",
   "execution_count": null,
   "metadata": {},
   "outputs": [],
   "source": [
    "print(f\"Wierzchołki w grafie G: {G.nodes}\") #dostęp do wierzchołków w grafie\n",
    "print(f\"Krawędzi w grafie G: {G.edges}\") #dostęp do krawędzi w grafie\n",
    "print(f\"Wierzchołki sąsiadujące z wierzchołkiem 1: {list(G.adj[1])}\") #lista wierzchołków sąsiadujących ze wskazanym wierzchołkiem\n",
    "print(f\"Liczba stopni wierzchołka 1: {G.degree[1]}\") #stopień oznacza z iloma wierzchołkami sąsiaduje dany wierzchołek. "
   ]
  },
  {
   "cell_type": "code",
   "execution_count": null,
   "metadata": {},
   "outputs": [],
   "source": [
    "print(G.edges([1, 2])) #wyświetlenie dostępnych krawędzi dla wskazanych wierzchołków\n",
    "print(G.degree([1, 2])) #wyświetlenie stopnia dla wskazanych wierzchołków"
   ]
  },
  {
   "attachments": {},
   "cell_type": "markdown",
   "metadata": {},
   "source": [
    "Metoda clear pozwala na usunięcie wszystkich wierzchołków i krawędzi z grafu."
   ]
  },
  {
   "cell_type": "code",
   "execution_count": null,
   "metadata": {},
   "outputs": [],
   "source": [
    "G.clear()\n",
    "print(G.nodes, G.edges)"
   ]
  },
  {
   "cell_type": "code",
   "execution_count": null,
   "metadata": {},
   "outputs": [],
   "source": [
    "G.add_nodes_from([1,2,3,4,5])\n",
    "G.add_edges_from([(1,2), (1,3), (1,4), (1,5)])\n",
    "print(f\"Wierzchołki po dodaniu: {G.nodes}, krawędzi po dodaniu: {G.edges}.\")\n",
    "G.remove_nodes_from([2,3,4])\n",
    "print(f\"Pozostałe wierzchołki: {G.nodes}, pozostałe krawędzi: {G.edges}.\")\n",
    "G.remove_edge(1,5)\n",
    "print(f\"Pozostałe wierzchołki po usunięciu krawedzi (1, 5): {G.nodes}, pozostałe krawędzi {G.edges}.\")"
   ]
  },
  {
   "cell_type": "code",
   "execution_count": null,
   "metadata": {},
   "outputs": [],
   "source": [
    "G = nx.Graph([(1, 2, {\"color\": \"blue\"})])\n",
    "print(G.nodes, G.edges)\n",
    "print(G[1])\n",
    "print(G[1][2])\n",
    "print(G.edges[1, 2])"
   ]
  },
  {
   "cell_type": "code",
   "execution_count": null,
   "metadata": {},
   "outputs": [],
   "source": [
    "G.add_edge(1,3)\n",
    "G[1][3]['color'] = \"red\"\n",
    "print(G.edges[1, 3])\n",
    "G.edges[1, 3]['color'] = \"green\"\n",
    "print(G.edges[1, 3])"
   ]
  },
  {
   "cell_type": "code",
   "execution_count": null,
   "metadata": {},
   "outputs": [],
   "source": [
    "G = nx.Graph()\n",
    "G.add_weighted_edges_from([(1, 2, 1), (2, 3, 2), (3, 4, 4), (1, 3, 5), (4, 5, 10)])\n",
    "print(G.edges, G.nodes)\n",
    "\n",
    "for n, nbrs in G.adj.items():\n",
    "    for nbr, eattr in nbrs.items():\n",
    "        wt = eattr['weight']\n",
    "        print(f\"Wierzchołek: {n} -> Sąsiad {nbr}, waga krawędzi = {wt}\")"
   ]
  },
  {
   "cell_type": "code",
   "execution_count": null,
   "metadata": {},
   "outputs": [],
   "source": [
    "for (n, nbr, wt) in G.edges.data('weight'):\n",
    "    print(f\"Wierzchołek: {n} -> Sąsiad {nbr}, waga krawędzi = {wt}\")"
   ]
  },
  {
   "cell_type": "code",
   "execution_count": null,
   "metadata": {},
   "outputs": [],
   "source": [
    "G = nx.Graph()\n",
    "\n",
    "G.add_node(1, variable = 1)\n",
    "G.add_nodes_from([2,3], variable = 2)\n",
    "print(G.nodes[1])\n",
    "for (n, wt) in G.nodes.data('variable'):\n",
    "    print(f\"Wierzchołek: {n}, waga wierzchołka = {wt}\")\n",
    "\n",
    "G.nodes[1]['color'] = \"red\"\n",
    "\n",
    "print(\"Waga:\",G.nodes[1]['variable'])\n",
    "print(\"Kolor:\",G.nodes[1]['color'])"
   ]
  },
  {
   "cell_type": "code",
   "execution_count": null,
   "metadata": {},
   "outputs": [],
   "source": [
    "G = nx.Graph()\n",
    "\n",
    "G.add_edge(1, 2, variable = 1)\n",
    "G.add_edges_from([(2, 3), (3, 4)], variable = 2)\n",
    "G.add_edges_from([(1, 3, {\"variable\": 3}), (1, 4, {\"variable\": 4})])\n",
    "\n",
    "for n, wt in G.nodes.data('variable'):\n",
    "    print(f\"Wierzchołek: {n}, waga wierzchołka = {wt}\")\n",
    "\n",
    "for n, nbr, wt in G.edges.data('variable'):\n",
    "    print(f\"Wierzchołek: {n}, sąsiad: {nbr}, waga krawędzi = {wt}\")\n",
    "\n",
    "G.edges"
   ]
  },
  {
   "cell_type": "code",
   "execution_count": null,
   "metadata": {},
   "outputs": [],
   "source": [
    "import networkx as nx\n",
    "import matplotlib.pyplot as plt\n",
    "\n",
    "G = nx.Graph()\n",
    "G.add_edges_from([(1,2), (2,3), (3,4), (4,5), (5, 1)])\n",
    "x = plt.subplot()\n",
    "nx.draw(G, with_labels=True)"
   ]
  },
  {
   "attachments": {},
   "cell_type": "markdown",
   "metadata": {},
   "source": [
    "Zadania"
   ]
  },
  {
   "attachments": {},
   "cell_type": "markdown",
   "metadata": {},
   "source": [
    "1. Wyświetl graf, którego wierzchołki będą łączyły się następująco:\n",
    "\n",
    "a -> b -> c -> d -> e\n",
    "\n",
    "b -> a -> c - > d \n",
    "\n",
    "c -> a -> e\n",
    "\n",
    "d -> a -> b \n",
    "\n",
    "e -> a - > c"
   ]
  },
  {
   "cell_type": "code",
   "execution_count": null,
   "metadata": {},
   "outputs": [],
   "source": [
    "G = nx.Graph()\n",
    "G.add_edges_from([('a', 'b'), ('a', 'c'), ('a', 'd'), ('b', 'd'), ('c', 'e'), ('a', 'e'), ('b', 'c')])\n",
    "nx.draw(G, with_labels=True)"
   ]
  },
  {
   "attachments": {},
   "cell_type": "markdown",
   "metadata": {},
   "source": [
    "2. Wyświetl graf, którego wierzchołki będą łączyły się następująco:\n",
    "\n",
    "[0 1 1 0 0 0 1 0 1]\n",
    "\n",
    "[1 0 0 1 0 0 0 1 0]\n",
    "\n",
    "[1 0 0 1 1 0 0 0 0]\n",
    "\n",
    "[0 1 1 0 0 0 0 0 0]\n",
    "\n",
    "[0 0 1 0 0 1 0 0 0]\n",
    "\n",
    "[0 0 0 0 1 0 1 0 0]\n",
    "\n",
    "[1 0 0 0 0 1 0 0 0]\n",
    "\n",
    "[0 1 0 0 0 0 0 0 1]\n",
    "\n",
    "[1 0 0 0 0 0 0 1 0]"
   ]
  },
  {
   "cell_type": "code",
   "execution_count": 3,
   "metadata": {},
   "outputs": [
    {
     "data": {
      "image/png": "[encoded data removed]",
      "text/plain": [
       "<Figure size 640x480 with 1 Axes>"
      ]
     },
     "metadata": {},
     "output_type": "display_data"
    }
   ],
   "source": [
    "G = nx.Graph()\n",
    "G.add_edges_from([(8,9), (8,2), (2,1), (2,4), (1,3), (4,3), (3, 1), (1, 9), (1, 7), (7, 6), (6, 5), (5, 3)]) #kolejność dodawania wierzchołków losowa (nie należy się sugerować)\n",
    "nx.draw(G, with_labels = True)"
   ]
  },
  {
   "attachments": {},
   "cell_type": "markdown",
   "metadata": {},
   "source": [
    "3. Napisz funkcję, która jako argument przyjmie graf, a następnie zwróci dwie zmienne: liste przechowującą nazwę wierzchołka i liczbę sąsiadów oraz druga zmienna to \"szerokość grafu\" (po angielsku diameter)."
   ]
  },
  {
   "cell_type": "code",
   "execution_count": 81,
   "metadata": {},
   "outputs": [
    {
     "name": "stdout",
     "output_type": "stream",
     "text": [
      "[1, 2]\n",
      "[2, 2]\n",
      "[3, 2]\n",
      "[4, 2]\n",
      "[5, 2]\n",
      "2\n"
     ]
    }
   ],
   "source": [
    "def function(G):\n",
    "    lista = []\n",
    "    counter = 0\n",
    "    for node in G.nodes():\n",
    "        lista.append([node, G.degree(node)])\n",
    "    return lista, nx.diameter(G)\n",
    "lista, diameter  = function(G)\n",
    "\n",
    "for i in lista:\n",
    "    print(i)\n",
    "print(diameter)"
   ]
  },
  {
   "attachments": {},
   "cell_type": "markdown",
   "metadata": {},
   "source": [
    "4.\n",
    "4.1. Jaka jest najdłuższa trasa pomiędzy miastami?\n",
    "\n",
    "4.2. Z jakich miast średnio jest najkrótsza droga do pozostałych punktów?\n",
    "\n",
    "4.3. Poszerzając punkt 2 wybierz miasto, które ma najwięcej sąsiadów. Zwróc nazwę miasta oraz listę miast sąsiadujących."
   ]
  },
  {
   "cell_type": "code",
   "execution_count": 1,
   "metadata": {},
   "outputs": [],
   "source": [
    "cities =  [('St. Louis', 'Miami'), ('St. Louis', 'San Diego'), ('St. Louis', 'Chicago'), \n",
    "                      ('San Diego', 'Chicago'), ('San Diego', 'San Francisco'), ('San Diego', 'Minneapolis'), ('San Diego', 'Boston'), \n",
    "                      ('San Diego', 'Portland'), ('San Diego', 'Seattle'), ('Tulsa', 'New York'), ('Tulsa', 'Dallas'), ('Phoenix', 'Cleveland'), \n",
    "                      ('Phoenix', 'Denver'), ('Phoenix', 'Dallas'), ('Chicago', 'New York'), ('Chicago', 'Los Angeles'), ('Miami', 'New York'), \n",
    "                      ('Miami', 'Philadelphia'), ('Miami', 'Denver'), ('Boston', 'Atlanta'), ('Dallas', 'Cleveland'), ('Dallas', 'Albuquerque'), \n",
    "                      ('Philadelphia', 'Atlanta'), ('Denver', 'Minneapolis'), ('Denver', 'Cleveland'), ('Albuquerque', 'Atlanta'), ('Minneapolis', 'Portland'),\n",
    "                      ('Los Angeles', 'Seattle'), ('San Francisco', 'Portland'), ('San Francisco', 'Seattle'), ('San Francisco', 'Cleveland'), ('Seattle', 'Portland')]\n"
   ]
  },
  {
   "cell_type": "code",
   "execution_count": null,
   "metadata": {},
   "outputs": [],
   "source": [
    "#1\n",
    "print(nx.diameter(G))"
   ]
  },
  {
   "cell_type": "code",
   "execution_count": null,
   "metadata": {},
   "outputs": [],
   "source": [
    "#2\n",
    "print(nx.center(G))"
   ]
  },
  {
   "cell_type": "code",
   "execution_count": null,
   "metadata": {},
   "outputs": [],
   "source": [
    "#3\n",
    "def node_neighbours(G):\n",
    "    neighbours = 0\n",
    "    neighbours_list = []\n",
    "    name = \"\"\n",
    "    for node in nx.center(G):\n",
    "        if len(G.adj[node]) > neighbours:\n",
    "            neighbours = len(G.adj[node])\n",
    "            neighbours_list = list(G.adj[node])\n",
    "            name = node\n",
    "    return (name, neighbours_list)\n",
    "print(node_neighbours(G))"
   ]
  },
  {
   "attachments": {},
   "cell_type": "markdown",
   "metadata": {},
   "source": [
    "5.\n",
    "\n",
    "Utwórz graf z pięcioma wierzchołkami. Wierzchołki powinne być ponumerowane rosnąco (1, 2, 3 , 4 , 5). Każdemu z wierzchołków przypisz atrybut kolor, z inną wartością np. (black, red, pink, green, blue). Następnie połącz krawędziami kolejno wierzchołki (wierzchołek 1 z wierzchołkiem 2, wierzchołek 2 z wierzchołkiem 3 ... wierzchołek 5 z wierzchołkiem 1).\n",
    "\n",
    "Następnie narysuj graf w taki sposób, żeby każdy z wierzchołków miał odpowiadający kolor temu z atrybutu.\n",
    "\n",
    "Podpowiedź: node_color z metody draw może przyjąć tablicę, która posłuży za sekwencję kolorów do wyświetlenia."
   ]
  },
  {
   "cell_type": "code",
   "execution_count": null,
   "metadata": {},
   "outputs": [],
   "source": [
    "G = nx.Graph()\n",
    "G.add_node(1, color = \"red\")\n",
    "G.add_node(2, color = \"green\")\n",
    "G.add_node(3, color = \"blue\")\n",
    "G.add_node(4, color = \"red\")\n",
    "G.add_edges_from([(1, 2), (2, 3), (3, 4), (4, 1)])\n",
    "\n",
    "colors = nx.get_node_attributes(G, \"color\")\n",
    "\n",
    "colors_array = []\n",
    "for node in G.nodes(data=True):\n",
    "    colors_array.append(node[1]['color'])\n",
    "\n",
    "#nx.draw(G, with_labels = True, node_color = [colors[i] for i in range(1, len(colors) + 1)]) \n",
    "#nx.draw(G, with_labels = True, node_color = [G.nodes(data=True)[node[0]]['color'] for node in G.nodes(data=True)])\n",
    "nx.draw(G, with_labels = True, node_color = colors_array)"
   ]
  },
  {
   "cell_type": "code",
   "execution_count": null,
   "metadata": {},
   "outputs": [],
   "source": [
    "print([G.nodes(data=True)[node[0]]['color'] for node in G.nodes(data=True)])"
   ]
  },
  {
   "attachments": {},
   "cell_type": "markdown",
   "metadata": {},
   "source": [
    "6.\n",
    "\n",
    "6.1 Utwórz graf z minimum 8 wierzchołkami, niech minimalna liczba sąsiadów dla wierzchołka to będzie 2. Każdej krawędzi przypisz wybraną wagę.\n",
    "\n",
    "6.2 Napisz funkcję, w której jako parametry podasz graf oraz wierzchołek grafu. Niech funkcja zwróci sumę wag krawędzi z sąsiadami."
   ]
  },
  {
   "cell_type": "code",
   "execution_count": 7,
   "metadata": {},
   "outputs": [],
   "source": [
    "G = nx.Graph()\n",
    "\n",
    "G.add_edges_from([(1, 2, {\"weight\": 3}),(2, 3, {\"weight\": 1}), (3, 4, {\"weight\": 5}), \n",
    "                  (4, 5, {\"weight\": 4}), (5, 6, {\"weight\": 11}), (6, 7, {\"weight\": 2}), (7, 8, {\"weight\": 4}), (8, 1, {\"weight\": 7})])"
   ]
  },
  {
   "cell_type": "code",
   "execution_count": 10,
   "metadata": {},
   "outputs": [
    {
     "name": "stdout",
     "output_type": "stream",
     "text": [
      "(3, 2) 1\n",
      "(3, 4) 5\n",
      "6\n"
     ]
    }
   ],
   "source": [
    "def sum_weights(G, node):\n",
    "    sum = 0\n",
    "    for edge in G.edges(node):\n",
    "        print(edge, G[edge[0]][edge[1]][\"weight\"])\n",
    "        sum += G[edge[0]][edge[1]][\"weight\"]\n",
    "    return sum\n",
    "\n",
    "print(sum_weights(G, 3))"
   ]
  }
 ],
 "metadata": {
  "kernelspec": {
   "display_name": "aisd",
   "language": "python",
   "name": "python3"
  },
  "language_info": {
   "codemirror_mode": {
    "name": "ipython",
    "version": 3
   },
   "file_extension": ".py",
   "mimetype": "text/x-python",
   "name": "python",
   "nbconvert_exporter": "python",
   "pygments_lexer": "ipython3",
   "version": "3.11.0"
  },
  "orig_nbformat": 4,
  "vscode": {
   "interpreter": {
    "hash": "0fafdcdec313b54f8796ffdd7c6c32a93c50484dfbe51fffe4d45d8c39512d68"
   }
  }
 },
 "nbformat": 4,
 "nbformat_minor": 2
}
