{
 "cells": [
  {
   "cell_type": "code",
   "execution_count": 2,
   "metadata": {},
   "outputs": [],
   "source": [
    "import networkx as nx\n",
    "\n",
    "G = nx.Graph()\n",
    "\n",
    "G.add_weighted_edges_from([(0,1,2), (0,2,6), (1,3,5), (2,3,8), (3,5,15), (3,4,10), (4,5,6), (5,6,6), (4,6,2)])\n"
   ]
  },
  {
   "attachments": {},
   "cell_type": "markdown",
   "metadata": {},
   "source": [
    "Najbardziej znanym algorytmem realizującym postawiony problem jest algorytm Dijkstry. Podstawową ideą algorytmu jest przemieszczanie się po łukach sieci z wierzchołka s w kierunku wierzchołka t i cechowanie wierzchołków ich bieżącymi odległościami od źródła. Cecha wierzchołka u staje się stała, gdy jest równa długości najkrótszej drogi z s do u. Wierzchołki, które nie zostały ocechowane stałymi cechami mają cechy tymczasowe. Algorytm kończy działanie w momencie zmiany cechy wierzchołka t z tymczasowej na stałą.\n",
    "\n",
    "Algorytm rozpoczyna działanie od nadania tymczasowej cechy 0 wierzchołkowi s, gdyż jest to odległość od siebie samego. Pozostałe wierzchołki otrzymują tymczasową cechę INF (bardzo duża liczba reprezentująca nieskończoność), oznaczającą, że nie zostały jeszcze osiągnięte. Teraz, do zakończenia algorytmu, powtarzamy następujące czynności: wybieramy wierzchołek, który ma najmniejszą cechę tymczasową (powiedzmy, że będzie to wierzchołek x); jest on oczywiście wierzchołkiem najbliższym wierzchołka s, bowiem wagi łuków są nieujemne, czyli nie istnieje krótsza droga z s do x; w związku z tym tymczasowa cecha tego wierzchołka zostaje zamieniona na stałą; następnie przeglądamy wszystkie bezpośrednie następniki x i zmniejszamy ich cechy tymczasowe. Czynności te wykonujemy, aż wierzchołek t otrzyma cechę stałą."
   ]
  },
  {
   "attachments": {},
   "cell_type": "markdown",
   "metadata": {},
   "source": [
    "1. Zapoznaj się z kodem dla algorytmu dijkstry, a następnie przekształć, aby był zgodny z grafami stworzonymi przy pomocy biblioteki networkx."
   ]
  },
  {
   "cell_type": "code",
   "execution_count": null,
   "metadata": {},
   "outputs": [],
   "source": [
    "from queue import Queue\n",
    "def dijkstra(graph, node):\n",
    "    distance_dict = dict(graph.nodes)\n",
    "    distance_dict = dict.fromkeys(dict(graph.nodes), float('inf'))\n",
    "    distance_dict[node] = 0\n",
    "\n",
    "    pq = Queue()\n",
    "    pq.put((0, node))\n",
    "\n",
    "    while not pq.empty():\n",
    "        (dist, current_node) = pq.get()\n",
    "        graph.visited.append(current_node)\n",
    "\n",
    "        for neighbor in range(graph.v):\n",
    "            if graph.edges[current_node][neighbor] != -1:\n",
    "                distance = graph.edges[current_node][neighbor]\n",
    "                if neighbor not in graph.visited:\n",
    "                    old_cost = distance_dict[neighbor]\n",
    "                    new_cost = distance_dict[current_node] + distance\n",
    "                    if new_cost < old_cost:\n",
    "                        pq.put((new_cost, neighbor))\n",
    "                        distance_dict[neighbor] = new_cost\n",
    "    return distance_dict"
   ]
  },
  {
   "cell_type": "code",
   "execution_count": 4,
   "metadata": {},
   "outputs": [
    {
     "name": "stdout",
     "output_type": "stream",
     "text": [
      "{0: 6, 1: 8, 2: 0, 3: 8, 5: 23, 4: 18, 6: 20}\n"
     ]
    }
   ],
   "source": [
    "from queue import PriorityQueue\n",
    "def dijkstra(graph, node):\n",
    "    distance_dict = dict(graph.nodes)\n",
    "    distance_dict = dict.fromkeys(dict(graph.nodes), float('inf'))\n",
    "    distance_dict[node] = 0\n",
    "    visited = []\n",
    "\n",
    "    pq = PriorityQueue()\n",
    "    pq.put((0, node))\n",
    "\n",
    "    while not pq.empty():\n",
    "        (dist, current_node) = pq.get()\n",
    "        visited.append(current_node)\n",
    "\n",
    "        for neighbor in G.adj[current_node]:\n",
    "                if graph[current_node][neighbor]['weight'] != -1:\n",
    "                    distance = graph[current_node][neighbor]['weight']\n",
    "                    if neighbor not in visited:\n",
    "                        old_cost = distance_dict[neighbor]\n",
    "                        new_cost = distance_dict[current_node] + distance\n",
    "                        if new_cost < old_cost:\n",
    "                            pq.put((new_cost, neighbor))\n",
    "                            distance_dict[neighbor] = new_cost\n",
    "    return distance_dict\n",
    "print(dijkstra(G, 2))"
   ]
  },
  {
   "attachments": {},
   "cell_type": "markdown",
   "metadata": {},
   "source": [
    "2.1\tZmodyfikuj kod metody Dijkstra w klasie Graph tak aby zwracała odległość najkrótszej ścieżki pomiędzy wierzchołami podanymi jako parametry (czyli trzeba dodać parametr oznaczający wierzchołek końcowy). W przypadku dojścia do wierzchołka końcowego algorytm powinien zatrzymać działanie i zwrócić odpowiednią wartość.\n",
    "\n",
    "2.2 Stwórz listę, która będzie zawierać nazwy wierzchołków będących najkrótszą drogą pomiędzy wskazanymi punktami.\n",
    "\n",
    "2.3 Wyświetl graf. Niech kolorem czerwonym oznaczone będą oznaczone wierzchołki należące do najkrótszej trasy. Natomiast kolorem niebieskim wszystkie pozostałe."
   ]
  },
  {
   "cell_type": "code",
   "execution_count": 6,
   "metadata": {},
   "outputs": [
    {
     "name": "stdout",
     "output_type": "stream",
     "text": [
      "[6, 4, 3, 1, 0] 19\n"
     ]
    },
    {
     "data": {
      "image/png": "[encoded data removed]",
      "text/plain": [
       "<Figure size 640x480 with 1 Axes>"
      ]
     },
     "metadata": {},
     "output_type": "display_data"
    }
   ],
   "source": [
    "from queue import PriorityQueue\n",
    "def dijkstra(graph, start_node, end_node):\n",
    "    distance_dict = dict(graph.nodes)\n",
    "    distance_dict = dict.fromkeys(dict(graph.nodes), float('inf'))\n",
    "    distance_dict[start_node] = 0\n",
    "    shortest_path = []\n",
    "    visited = []\n",
    "\n",
    "    pq = PriorityQueue()\n",
    "    pq.put((0, start_node))\n",
    "\n",
    "    while not pq.empty():\n",
    "        (dist, current_node) = pq.get()\n",
    "        visited.append(current_node)\n",
    "\n",
    "        for neighbor in G.adj[current_node]:\n",
    "                if graph[current_node][neighbor]['weight'] != -1:\n",
    "                    distance = graph[current_node][neighbor]['weight']\n",
    "                    if neighbor not in visited:\n",
    "                        old_cost = distance_dict[neighbor]\n",
    "                        new_cost = distance_dict[current_node] + distance\n",
    "                        if new_cost < old_cost:\n",
    "                            pq.put((new_cost, neighbor))\n",
    "                            shortest_path.append((current_node, neighbor))\n",
    "                            distance_dict[neighbor] = new_cost\n",
    "\n",
    "        if current_node == end_node:\n",
    "           break\n",
    "\n",
    "    shortest_path2 = []\n",
    "    current_val  = end_node\n",
    "    for i in range(len(shortest_path) - 1, -1, -1):\n",
    "        if shortest_path[i][1] == current_val:\n",
    "            shortest_path2.append(shortest_path[i][1])\n",
    "            current_val = shortest_path[i][0]\n",
    "    shortest_path2.append(start_node)\n",
    " \n",
    "    return shortest_path2, distance_dict[end_node]\n",
    "\n",
    "path_to_point, distance_to_point = dijkstra(G, 0, 6)\n",
    "print(path_to_point, distance_to_point)\n",
    "colors = dict(G.nodes)\n",
    "colors = dict.fromkeys(dict(G.nodes), 'blue')\n",
    "for i in path_to_point:\n",
    "    colors[i] = 'red'\n",
    "\n",
    "nx.draw(G, with_labels = True, node_color = list(colors.values()))"
   ]
  },
  {
   "attachments": {},
   "cell_type": "markdown",
   "metadata": {},
   "source": [
    "3.\tZaproponuj modyfikację algorytmu z pliku Dijkstry1.py w taki sposób, aby obliczał i zwracał macierz odległości najkrótszych ścieżek od każdego wierzchołka do każdego. Rozmiary macierzy powinny być NxN, gdzie N to liczba wierzchołków grafu.\n",
    "\n",
    "Wynik powinien być:\n",
    "\n",
    "[0, 2, 6, 7, 17, 22, 19]\n",
    "\n",
    "[2, 0, 8, 5, 15, 20, 17]\n",
    "\n",
    "[6, 8, 0, 8, 18, 23, 20]\n",
    "\n",
    "[7, 5, 8, 0, 10, 15, 12]\n",
    "\n",
    "[17, 15, 18, 10, 0, 6, 2]\n",
    "\n",
    "[22, 20, 23, 15, 6, 0, 6]\n",
    "\n",
    "[19, 17, 20, 12, 2, 6, 0]"
   ]
  },
  {
   "cell_type": "code",
   "execution_count": 5,
   "metadata": {},
   "outputs": [
    {
     "name": "stdout",
     "output_type": "stream",
     "text": [
      "[0, 2, 6, 7, 17, 22, 19]\n",
      "[2, 0, 8, 5, 15, 20, 17]\n",
      "[6, 8, 0, 8, 18, 23, 20]\n",
      "[7, 5, 8, 0, 10, 15, 12]\n",
      "[17, 15, 18, 10, 0, 6, 2]\n",
      "[22, 20, 23, 15, 6, 0, 6]\n",
      "[19, 17, 20, 12, 2, 6, 0]\n"
     ]
    }
   ],
   "source": [
    "from queue import PriorityQueue\n",
    "def dijkstra(graph):\n",
    "    distance_matrix = [[]] * len(G.nodes)\n",
    "    for i in G.nodes:\n",
    "        distance_matrix[i] = [0] * len(G.nodes)\n",
    "        distance_dict = dict(graph.nodes)\n",
    "        distance_dict = dict.fromkeys(dict(graph.nodes), float('inf'))\n",
    "        distance_dict[i] = 0\n",
    "        visited = []\n",
    "\n",
    "        pq = PriorityQueue()\n",
    "        pq.put((0, i))\n",
    "\n",
    "        while not pq.empty():\n",
    "            (dist, current_node) = pq.get()\n",
    "            visited.append(current_node)\n",
    "\n",
    "            for neighbor in G.adj[current_node]:\n",
    "                    if graph[current_node][neighbor]['weight'] != -1:\n",
    "                        distance = graph[current_node][neighbor]['weight']\n",
    "                        if neighbor not in visited:\n",
    "                            old_cost = distance_dict[neighbor]\n",
    "                            new_cost = distance_dict[current_node] + distance\n",
    "                            if new_cost < old_cost:\n",
    "                                pq.put((new_cost, neighbor))\n",
    "                                distance_dict[neighbor] = new_cost\n",
    "        for j in G.nodes:\n",
    "            distance_matrix[i][j] = distance_dict[j]\n",
    "    return distance_matrix\n",
    "distance_matrix = dijkstra(G)\n",
    "for i in distance_matrix:\n",
    "    print(i)"
   ]
  }
 ],
 "metadata": {
  "kernelspec": {
   "display_name": "aisd",
   "language": "python",
   "name": "python3"
  },
  "language_info": {
   "codemirror_mode": {
    "name": "ipython",
    "version": 3
   },
   "file_extension": ".py",
   "mimetype": "text/x-python",
   "name": "python",
   "nbconvert_exporter": "python",
   "pygments_lexer": "ipython3",
   "version": "3.11.0"
  },
  "orig_nbformat": 4
 },
 "nbformat": 4,
 "nbformat_minor": 2
}
