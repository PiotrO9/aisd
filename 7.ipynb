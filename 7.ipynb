{
 "cells": [
  {
   "attachments": {},
   "cell_type": "markdown",
   "metadata": {},
   "source": [
    "Posortowanie listy daje znacznie większe możliwości w kwestii przeszukiwania elementów.\n",
    "Podstawowym sposobem na przeszukanie zawartości tablicy jest przeszukiwanie liniowe (linear search). \n",
    "Algorytm przechodzi przez kolejne elementy struktury danych sprawdzając, czy któraś wartość jest równa tej szukanej."
   ]
  },
  {
   "cell_type": "code",
   "execution_count": 26,
   "metadata": {},
   "outputs": [],
   "source": [
    "def linearSearch(lista, last_element, searched_value):\n",
    "    return_value = False #wartość boolowska, która zostanie zwrócona przez funkcję\n",
    "    for i in range(0, last_element): #przeszukanie wszystkich elementów listy\n",
    "        if lista[i] == searched_value: #sprawdzenie czy obecny element jest równy szukanemu elementowi\n",
    "            return_value = True #jeżeli jest to wartość zmiennej przechodzi na True\n",
    "    return return_value #zwrócenie True lub False w zależności od rezultatu\n"
   ]
  },
  {
   "cell_type": "code",
   "execution_count": null,
   "metadata": {},
   "outputs": [],
   "source": [
    "lista = [1,23,13,2,321,321,21,321,21,4,2,345,32,53,534,5,436,436,43,643,643643,5,23,5432,32,432,4,234,1,312,321]\n",
    "\n",
    "linearSearch(lista, len(lista), 321)"
   ]
  },
  {
   "attachments": {},
   "cell_type": "markdown",
   "metadata": {},
   "source": [
    "Sentinel Search jest podobny do przeszukiwania liniowego (linear search). W tym algorytmie tak samo porównujemy każdy element w liście z szukanym. \n",
    "\n",
    "Różnica jest taka, że wartość ostatniego elementu jest zamieniania na wartość szukaną, a wartość ostatniego elementu trafia tymczasowo do pamięci.\n",
    "Następnie algorytm przechodzi krok po kroku przez każdy z elementów listy sprawdzając czy znajduje się on gdzieś w podanym zbiorze.\n",
    "Przeszukiwanie kończy się w momencie znalezienia wartości w zbiorze lub po dojściu do samego końca listy.\n",
    "Po operacji przeszukiwania zbioru ostatni element listy wraca na swoje miejsce. Następuje również ostatnia operacja porównania, czy poszukiwana wartość, to wartość ostatniego elementu listy."
   ]
  },
  {
   "cell_type": "code",
   "execution_count": 19,
   "metadata": {},
   "outputs": [],
   "source": [
    "def sentinelSearch(lista, list_len, key): #funkcja przyjmuje 3 argumenty, listę, długość listy \n",
    "    is_found = False #zainicjalizowanie flagi czy znaleziono wartość\n",
    "    last = lista[list_len - 1] #przechowanie w pamięci ostatniego elementu listy\n",
    "\n",
    "    lista[list_len - 1] = key #zamiana ostatniego elementu listy na wartość wyszukiwaną\n",
    "    i = 0 #ustawienie zmiennej do przechodzenia przez kolejne indeksy na 0 (pierwszy element listy) \n",
    "    while (lista[i] != key): #przechodzenie przez poszczególne elementy listy dopóki nie zostanie znaleziona wartość wyszukiwana\n",
    "        i += 1 #zwiększenie zmiennej i o 1 \n",
    "\n",
    "    lista[list_len - 1] = last #powrót ostatniego elementu listy na swoje miejsce\n",
    "    #warunek sprawdzający czy wartość występuje w liście. Jeżeli i jest mniejsze od długości listy, to znaczy, że pętla przerwała się przed końcem, a to oznacza znalezienie elemenetu\n",
    "    if ((i < list_len - 1) or (lista[list_len - 1] == key)): #drugi warunek to sprawdzenie czy ostatni element listy to poszukiwana wartość\n",
    "        is_found = True #zmiana flagi czy znaleziono wartość na True\n",
    "    return is_found #zwrócenie flagi "
   ]
  },
  {
   "cell_type": "code",
   "execution_count": null,
   "metadata": {},
   "outputs": [],
   "source": [
    "lista = [1,2,3,4,5,6,7,8,10,11,9,100,50,40,30,75]\n",
    "list_len = len(lista)\n",
    "key = 20\n",
    "print(sentinelSearch(lista, list_len, key))"
   ]
  },
  {
   "attachments": {},
   "cell_type": "markdown",
   "metadata": {},
   "source": [
    "Jump search może posłużyć jedynie przy posortowanych listach. Dzięki tytułowemu przeskakiwaniu przeszukuje on mniejszą liczbę elementów od wyszukiwania liniowego. Wykonujemy przejście pomiędzy indeksami, gdzie każdy skok jest równy pierwiastkowi długości listy. Skoki są wykonywane do momentu, kiedy wartość kryjąca się pod indeksem skoku jest mniejsza od wyszukiwanej wartości. \n",
    "Jeżeli wartość kryjąca się pod indeksem będzie większa, to należy wrócić się w indeksie o jeden skok do tyłu, a następnie przeszukać listę w wyznaczonym zakresie (poprzedni skok, aktualny skok) i spróbować znaleźć szukaną wartość.\n",
    "\n",
    "Obliczony pierwiastek należy zaokrąglić w dół, ze względu na to, że nie przy wszystkich listach pierwiastek z długości, to będzie liczba całkowita.\n",
    "\n",
    "Dodatkowo, żeby ograniczyć możliwość wyjścia poza długość listy należy wybrać długość listy jako indeks, jeżeli wartość skoku wyjdzie poza długość listy."
   ]
  },
  {
   "cell_type": "code",
   "execution_count": 5,
   "metadata": {},
   "outputs": [
    {
     "name": "stdout",
     "output_type": "stream",
     "text": [
      "3\n"
     ]
    }
   ],
   "source": [
    "from math import sqrt, floor\n",
    "\n",
    "def jump_search(lista, value):\n",
    "    length = len(lista)\n",
    "    jump = floor(sqrt(length))\n",
    "    previous_step = 0\n",
    "\n",
    "    while lista[min(jump, length - 1)] < value:\n",
    "        previous_step = jump\n",
    "        jump += floor(sqrt(length))\n",
    "        if previous_step > length:\n",
    "            return None\n",
    "    for i in range(previous_step, min(jump, length) + 1):\n",
    "        if lista[i] == value:\n",
    "            return i\n",
    "    return None\n",
    "\n",
    "lista=[1,2,3,4,4,5,5,6,7,8,9,10,11]\n",
    "\n",
    "print(jump_search(lista, 4))"
   ]
  },
  {
   "attachments": {},
   "cell_type": "markdown",
   "metadata": {},
   "source": [
    "Algorytm Binary search może zostać wykorzystany przy posortowanych listach. Przekazana struktura jest dzielona na dwie części i sprawdzany jest zawsze środkowy element. Jeżeli wartość jest równa, to algorytm kończy działanie. Natomiast w momencie, kiedy porównywane wartości są różne następuje kolejne podzielenie. Jeżeli wartość elementu srodkowego jest większa od poszukiwanej wartości to środek staje się indeksem prawej krawędzi - 1, natomiast w innym przypadku to lewa strona przyjmuje indeks środka + 1 (dodajemy lub odejmuje 1 ponieważ już sprawdzaliśmy środkowy element). \n",
    "\n",
    "Algorytm binary search można zapisać następującymi krokami:\n",
    "\n",
    "1. Ustaw lewą stronę jako pierwszy element listy oraz prawą stronę jako ostatni element listy.\n",
    "2. Środkowy element wyznacz za pomocą wartości indeksu lewej i prawej strony (środek = lewa_strona + (prawa_strona - lewa_strona) // 2)\n",
    "3. Jeżeli wartość środkowego elementu jest równa poszukiwanej wartości to zwróć numer indeksu\n",
    "4. Jeżeli wartość środkowego elementu jest większa od poszukiwanej wartości, to zmień wartość lewej krawędzi na indeks środa + 1\n",
    "5. Jeżeli wartość środkowego elementu jest mniejsza od poszukiwanej wartości, to zmień wartość prawej krawędzi na indeks środka - 1\n",
    "6. Powtarzaj kroki 2-5 do momentu, kiedy możliwe jest dalsze dzielenie zbioru."
   ]
  },
  {
   "cell_type": "code",
   "execution_count": 21,
   "metadata": {},
   "outputs": [],
   "source": [
    "def binarySearch(lista, searched_value):\n",
    "    left = 0 #ustawienie wartości lewej strony na 0\n",
    "    right = len(lista) - 1 #ustawienie wartości prawej strony na ostatni indeks listy\n",
    "    if lista[left] == searched_value or lista[right] == searched_value: #sprawdzenie czy minimalna lub maksymalna wartość jest równa poszukiwanej wartości\n",
    "        return True\n",
    "    \n",
    "    if lista[left] > searched_value or lista[right] < searched_value: #sprawdzenie czy poszukiwana wartość może znajdować się w zbiorze\n",
    "        return False\n",
    "\n",
    "    while left <= right: #wykonywanie pętli dopóki możliwe jest dalsze dzielenie\n",
    "\n",
    "        mid = left + (right - left)//2 #znalezienie środkowego elementu\n",
    "\n",
    "        if lista[mid] == searched_value: #jeżeli środkowy element jest równy poszukiwanej wartości, zwróć True\n",
    "            return True\n",
    "\n",
    "        elif lista[mid] < searched_value: #jeżeli środkowy element jest mniejszy od poszukiwanej wartości, to przyjmij środek + 1 jako lewą stronę\n",
    "            left = mid + 1\n",
    "\n",
    "        else:\n",
    "            right = mid - 1 #jeżeli środkowy element jest większy od poszukiwanej wartości, to przyjmij środek - 1 jako prawą stronę\n",
    "\n",
    "    return False #zwróć False, jeżeli wartości nie ma w liście"
   ]
  },
  {
   "cell_type": "code",
   "execution_count": null,
   "metadata": {},
   "outputs": [],
   "source": [
    "lista = [1,2,3,4,5,6,7,8,9,10,11,12,13,14,15,16,17,18,19,20,21,22,23,24,25,26,27,28,29,30]\n",
    "\n",
    "for i in lista:\n",
    "    print(binarySearch(lista, i))\n",
    "#binarySearch(lista, 7)"
   ]
  },
  {
   "attachments": {},
   "cell_type": "markdown",
   "metadata": {},
   "source": [
    "Algorytm Ternary search może zostać wykorzystywany przy posortowanej liście.\n",
    "Działa on podobnie do algorgorytmu binary search tree, ponieważ tutaj również otrzymany zbiór jest dzielony na mniejsze części, aż do wyczerpania zbioru lub znalezienia elementu. \n",
    "Różnica jest taka, że w Ternary search zbiór jest dzielony na trzy części poprzez zastosowanie dwóch wartości środkowych.\n",
    "\n",
    "1. Ustaw lewą stronę jako początek listy i prawą stronę jako koniec listy\n",
    "2. Sprawdź czy wskaźnik lewej strony nie ma większej wartości od wskaźnika prawej strony. Jeżeli tak, to przejdź do kroku 9.\n",
    "2. Oblicz pierwszy środek jako (mid1 = left + (right-left) // 3)\n",
    "3. Oblicz drugi środek jako (right - (right - left) // 3)\n",
    "4. Sprawdź czy wyszukiwania wartość znajduje się pod jednym z indeksów środkowych. Jeżeli tak przejdź do kroku 8.\n",
    "5. Jeżeli szukana wartość jest mniejsza od elementu spod indeksu środka pierwszego, to należy ograniczyć listę do wartości mniejszych od tego spod indeksu środka pierwszego i wróć do punktu 2.\n",
    "6. Jeżeli szukana wartość jest większa od elementu spod indeksu środka drugiego, to należy ograniczyć listę do wartości większych od tego spod indeksu środka drugiego i wróć do punktu 2.\n",
    "7. Jeżeli wartość może znajdować się pomiędzy obydwoma środkami, to ogranicz listę do wartości pomiędzy jednym i drugim środkiem, a nastepnie wróć do punktu 2.\n",
    "8. Zwróć indeks, pod którym została znaleziona wartość.\n",
    "9. Zwróć -1."
   ]
  },
  {
   "cell_type": "code",
   "execution_count": 23,
   "metadata": {},
   "outputs": [],
   "source": [
    "def ternarySearch(lista, searched_value):\n",
    "    left = 0\n",
    "    right = len(lista) - 1\n",
    "\n",
    "    if lista[left] == searched_value or lista[right] == searched_value: #sprawdzenie czy minimalna lub maksymalna wartość jest równa poszukiwanej wartości\n",
    "        return True\n",
    "    \n",
    "    if lista[left] > searched_value or lista[right] < searched_value: #sprawdzenie czy poszukiwana wartość może znajdować się w zbiorze\n",
    "        return False\n",
    "\n",
    "    while left <= right:\n",
    "\n",
    "        mid1 = left + (right-left) // 3\n",
    "        mid2 = right - (right-left) // 3\n",
    "        #print(lista[mid1:mid2+1])\n",
    "\n",
    "        if searched_value == lista[mid1]:\n",
    "            return True\n",
    "        \n",
    "        if searched_value == lista[mid2]:\n",
    "            return True\n",
    "        \n",
    "        if searched_value < lista[mid1]:\n",
    "            right = mid1 - 1\n",
    "\n",
    "        elif searched_value > lista[mid2]:\n",
    "            left = mid2 + 1\n",
    "        \n",
    "        else:\n",
    "            left = mid1 + 1\n",
    "            right = mid2 - 1\n",
    "  \n",
    "    return False"
   ]
  },
  {
   "cell_type": "code",
   "execution_count": 28,
   "metadata": {},
   "outputs": [
    {
     "name": "stdout",
     "output_type": "stream",
     "text": [
      "True\n"
     ]
    }
   ],
   "source": [
    "lista = [1,2,3,4,5,6,7,8,9,10,11,12,13,14,15,16,17,18,19,20,21,22,23,24,25,26,27,28,29, 30]\n",
    "\n",
    "print(ternarySearch(lista, 29))"
   ]
  },
  {
   "attachments": {},
   "cell_type": "markdown",
   "metadata": {},
   "source": [
    "1. Napisz wykorzystując rekurencję algorytm wyszukiwania liniowego"
   ]
  },
  {
   "cell_type": "code",
   "execution_count": 7,
   "metadata": {},
   "outputs": [
    {
     "name": "stdout",
     "output_type": "stream",
     "text": [
      "4\n"
     ]
    }
   ],
   "source": [
    "def reccursive_linear(lista, value, size):\n",
    "    if size < 0:\n",
    "        return None\n",
    "    elif value == lista[size]:\n",
    "        return size\n",
    "    return reccursive_linear(lista, value, size - 1)\n",
    "\n",
    "lista=[1,2,3,4,5,6,7,8,9,10]\n",
    "print(reccursive_linear(lista, 5, len(lista) - 1))"
   ]
  },
  {
   "attachments": {},
   "cell_type": "markdown",
   "metadata": {},
   "source": [
    "2. Napisz wykorzystując rekurencję algorytm wyszukiwania binary search."
   ]
  },
  {
   "cell_type": "code",
   "execution_count": null,
   "metadata": {},
   "outputs": [],
   "source": [
    "def binary_search(lista, l, r, n):\n",
    "    mid =  (l + r) // 2\n",
    "\n",
    "    if l <= r :\n",
    "\n",
    "        if lista[mid] == n:\n",
    "            return True\n",
    "\n",
    "        if n > mid:\n",
    "            l = mid + 1\n",
    "        else:\n",
    "            r = mid - 1\n",
    "        \n",
    "        return binary_search(lista, l, r, n)\n",
    "\n",
    "    return False\n"
   ]
  },
  {
   "attachments": {},
   "cell_type": "markdown",
   "metadata": {},
   "source": [
    "3. Napisz funkcję wyszukiwania liniowego, która po znalezieniu elementu zamieniami miejscami w liście znaleziony element z elementem znajdującym się w miejscu o indeksie o jeden mniejszym."
   ]
  },
  {
   "cell_type": "code",
   "execution_count": 10,
   "metadata": {},
   "outputs": [
    {
     "name": "stdout",
     "output_type": "stream",
     "text": [
      "2\n",
      "[1, 3, 2, 4, 5, 6, 7, 8, 9, 10]\n"
     ]
    }
   ],
   "source": [
    "def linear_search_improve1(lista, value):\n",
    "    for i in range(len(lista)):\n",
    "        if lista[i] == value:\n",
    "            if i == 0:\n",
    "                return i\n",
    "            lista[i], lista[i - 1] = lista[i - 1], lista[i]\n",
    "            return i\n",
    "    return None\n",
    "\n",
    "lista=[1,2,3,4,5,6,7,8,9,10]\n",
    "\n",
    "print(linear_search_improve1(lista, 3))\n",
    "print(lista)"
   ]
  },
  {
   "attachments": {},
   "cell_type": "markdown",
   "metadata": {},
   "source": [
    "4. Napisz funkcję wyszukiwania liniowego, która po znalezieniu elementu zamieniami miejscami w liście znaleziony element z elementem znajdującym się na samym początku listy."
   ]
  },
  {
   "cell_type": "code",
   "execution_count": 14,
   "metadata": {},
   "outputs": [
    {
     "name": "stdout",
     "output_type": "stream",
     "text": [
      "2\n",
      "[3, 2, 1, 4, 5, 6, 7, 8, 9, 10]\n"
     ]
    }
   ],
   "source": [
    "def linear_search_improve2(lista, value):\n",
    "    for i in range(len(lista)):\n",
    "        if lista[i] == value:\n",
    "            if i == 0:\n",
    "                return i\n",
    "            lista[i], lista[0] = lista[0], lista[i]\n",
    "            return i\n",
    "    return None\n",
    "\n",
    "lista=[1,2,3,4,5,6,7,8,9,10]\n",
    "\n",
    "print(linear_search_improve2(lista, 3))\n",
    "print(lista)"
   ]
  }
 ],
 "metadata": {
  "kernelspec": {
   "display_name": "aisd",
   "language": "python",
   "name": "python3"
  },
  "language_info": {
   "codemirror_mode": {
    "name": "ipython",
    "version": 3
   },
   "file_extension": ".py",
   "mimetype": "text/x-python",
   "name": "python",
   "nbconvert_exporter": "python",
   "pygments_lexer": "ipython3",
   "version": "3.11.0"
  },
  "orig_nbformat": 4
 },
 "nbformat": 4,
 "nbformat_minor": 2
}
