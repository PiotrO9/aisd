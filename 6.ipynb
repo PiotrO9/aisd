{
 "cells": [
  {
   "cell_type": "code",
   "execution_count": 33,
   "metadata": {},
   "outputs": [],
   "source": [
    "import random\n",
    "\n",
    "lista = random.sample(range(1000000), 900000)"
   ]
  },
  {
   "cell_type": "code",
   "execution_count": null,
   "metadata": {},
   "outputs": [],
   "source": [
    "len(lista)"
   ]
  },
  {
   "cell_type": "code",
   "execution_count": 38,
   "metadata": {},
   "outputs": [],
   "source": [
    "import numpy as np\n",
    "\n",
    "np.savetxt(\"example.csv\", lista, delimiter=\", \", fmt = \"% s\") \n"
   ]
  },
  {
   "cell_type": "code",
   "execution_count": 29,
   "metadata": {},
   "outputs": [],
   "source": [
    "import csv\n",
    "\n",
    "data = []\n",
    "\n",
    "with open(\"example.csv\", newline='') as f:\n",
    "    for row in csv.reader(f):\n",
    "        data.append(int(row[0]))"
   ]
  },
  {
   "cell_type": "code",
   "execution_count": 30,
   "metadata": {},
   "outputs": [
    {
     "data": {
      "text/plain": [
       "800000"
      ]
     },
     "execution_count": 30,
     "metadata": {},
     "output_type": "execute_result"
    }
   ],
   "source": [
    "data = data[0:800000]\n",
    "len(data)\n"
   ]
  },
  {
   "attachments": {},
   "cell_type": "markdown",
   "metadata": {},
   "source": [
    "Algorytm Bubble Sort polega na tym, że porównywane są ze sobą dwa elementy (zaczynając od pierwszego). Jeżeli pierwszy element jest większy od drugiego, to zamieniają się one miejscami. Następnie porównywany jest drugi element z trzecim itd. Proces trwa aż do ostatniego elementu. W kolejnych iteracjach dalej wykonywane jest sortowanie. Po każdej iteracji największy element trafia na sam koniec. Po przejściu w głównej pętli przez wszystkie elementy algorytm kończy działanie."
   ]
  },
  {
   "cell_type": "code",
   "execution_count": 58,
   "metadata": {},
   "outputs": [],
   "source": [
    "def bubble_sort(lista):\n",
    "    for i in range(0, len(lista)): #przejście przez wszystkie indeksy listy\n",
    "        flag = False #ustawienie flagi sprawdzającej, czy zaszła zamiana na False\n",
    "        for j in range(0, len(lista) - i - 1): #przejście przez wszystkie elementy, które mogły jeszcze nie zostać posortowane (po każdej iteracji rośnie liczba elementów posortowanych na końcu)\n",
    "            if lista[j] > lista[j + 1]: #sprawdzenie czy obecny element jest większy od następnego\n",
    "                lista[j], lista[j + 1] = lista[j + 1], lista[j] #jeżeli obecny element jest większy od następnego to zamień je miejscami\n",
    "                flag = True #ustaw flagę sprawdzającą na True\n",
    "        if flag == False: #sprawdzenie czy flaga sprawdzająca jest równa False\n",
    "            break #jeżeli nie zaszla żadna zamiana (flaga jest na False), to przerwij wykonywanie pętli, w celu oszczędzenia czasu\n",
    "    return lista"
   ]
  },
  {
   "cell_type": "code",
   "execution_count": null,
   "metadata": {},
   "outputs": [],
   "source": [
    "print(bubble_sort(data))"
   ]
  },
  {
   "attachments": {},
   "cell_type": "markdown",
   "metadata": {},
   "source": [
    "Algorytm Selection Sort polega na tym, że wybiera się pierwszy element listy, a następnie porównuje się go z każdym następnym elementem znajdującym się w liści. Jeżeli po przejściu całej listy znajdzie się mniejszy element (przy znalezieniu paru mniejszych wybierany jest ten, którego wartość jest najmniejsza), to zamieniane są one miejscami. Natomiast, kiedy element w swoim indeksie jest najmniejszą wartościa, to zostaje on na swoim miejscu.\n",
    "\n",
    "Algorytm dla selection sort można zapisać jako:\n",
    "\n",
    "1. Podaj listę, która ma zostać posortowana.\n",
    "2. Wybierz pierwszy nieposortowany element i zapisz jego indeks.\n",
    "3. Porównuj z każdym kolejnym elementem listy. Jeżeli wartość przeszukiwanego elementu jest mniejsza od pierwszego nieposortowanego elementu, to zapisz numer indeksu jako minimalną wartość.\n",
    "4. Jeżeli porównano ostatni element listy, to zamień miejscami pierwszy nieposrtowany element listy z elementem o minimalnej wartości.\n",
    "5. Jeżeli zostały jeszcze jakieś nieposortowane elementy, to wróc do kroku 2.\n",
    "6. Jeżeli nie ma już więcej nieposortowanych elementów, to zakończ działanie."
   ]
  },
  {
   "cell_type": "code",
   "execution_count": 40,
   "metadata": {},
   "outputs": [],
   "source": [
    "def selection_sort(lista):\n",
    "    flag = False\n",
    "    for unordered_element in range(len(lista)): #pętla for dla wartości od 0 do ostatniego elementu listy\n",
    "        min = unordered_element #min oznacza element, który nie został jeszcze posrtowany\n",
    "\n",
    "        for element in range(unordered_element + 1, len(lista)): #pętla wywoła się dla wszystkich elementów nieuporządkowanych oprócz tego, który zostanie sprawdzony\n",
    "            if lista[min] > lista[element]: #sprawdzenie czy element z najmniejszą wartością jest większy od obecnego elementu\n",
    "                min = element #jeżeli jest to obecny element staje się minimalnym\n",
    "                flag = True #zaktualizowanie flagi, żeby wskazać, że w tej iteracji będzie zamiana\n",
    "        if flag == True: #sprawdzenie flagi, jeżeli flaga jest prawdziwa to sprawdzany nieuporządkowany element zamienia się miejscem z najmniejszym elementem\n",
    "            lista[unordered_element], lista[min] = lista[min], lista[unordered_element] #zamiana elementów\n",
    "            flag = False #zmiana flagi znowu na 0\n",
    "    return lista"
   ]
  },
  {
   "cell_type": "code",
   "execution_count": null,
   "metadata": {},
   "outputs": [],
   "source": [
    "lista = [8,5,4,1,3,9,10] #lista, która zostanie posortowana\n",
    "\n",
    "print(selection_sort(data))"
   ]
  },
  {
   "attachments": {},
   "cell_type": "markdown",
   "metadata": {},
   "source": [
    "Insertion sort, to algorytm, który przypomina układanie kart w ręce podczas gry w karty. Jeżeli patrzymy na 5 kart w ręce, to nie zaczynamy sortowania od pierwszej (na początku uznajemy, że jest ona na właściwej pozycji). Dopiero sprawdzając wartości kolejnych elementów można dojść do wniosku czy są one ułożone w odpowiedniej kolejności. Jeżeli natrafimy na kartę, która powinna znaleźć się wcześniej, to jest ona porówywana z poszczególnymi poprzednimi elementami aż trafi na odpowiednie miejsce.\n",
    "\n",
    "Algorytm insertion sort można opisać w krokach:\n",
    "\n",
    "1. Jeżeli element jest pierwszy, to założ, że został posrtowany.\n",
    "2. Wybierz następny element, a następnie przechowaj jego wartość w pamięci.\n",
    "3. Porównuj wartość przechowywanego elementu z poprzednimi elementami.\n",
    "4. Jeżeli element z posortowanej części jest mniejszy, to przejdź do następnego elementu. Natomiast jeżeli jest większy, to przesuń go w prawo \n",
    "5. Wstaw przechowywaną wartość.\n",
    "6. Powtarzaj do momentu posortowania tablicy."
   ]
  },
  {
   "cell_type": "code",
   "execution_count": 98,
   "metadata": {},
   "outputs": [],
   "source": [
    "def insertionSort(lista):\n",
    "    for i in range(1, len(lista)): #zaczynamy od 1, ponieważ pierwszy (zerowy) element uznajemy za posortowany\n",
    "        key = lista[i] #wartość klucza przyjmuje element, który będziemy w danej iteracji sortować\n",
    "\n",
    "        j = i - 1 #j wyznacza pierwszy indeks posortowanej części listy\n",
    "        while j >= 0 and key < lista[j]: #wykonujemy pętlę dopóki są jeszcze jakieś elementy w posorotwanej części listy lub dopóki wartość w posortowanej tablicy nie okaże się mniejsza\n",
    "            lista[j + 1] = lista[j] #zgodnie z przechodzeniem pętli po liście przesuwamy elementy\n",
    "            j -= 1 #przejście do następnego elementu\n",
    "        lista[j + 1] = key #po zakończeniu pętli klucz trafia w miejsce ostatniego elementu spełniającego warunek z pętli while\n",
    "    return lista"
   ]
  },
  {
   "cell_type": "code",
   "execution_count": 102,
   "metadata": {},
   "outputs": [
    {
     "name": "stdout",
     "output_type": "stream",
     "text": [
      "[1, 2, 3, 3, 4, 4, 5, 7, 11, 234]\n"
     ]
    }
   ],
   "source": [
    "lista = [5,4,3,2,1,7,3,4,11,234]\n",
    "\n",
    "print(insertionSort(lista))"
   ]
  },
  {
   "attachments": {},
   "cell_type": "markdown",
   "metadata": {},
   "source": [
    "Merge sort to algorytm rekurencyjny, który dzieli otrzymaną listę na dwie części. Po podzieleniu listy na pojedyncze elementy zaczyna on łączyć ze sobą poszczególne pary zachowując tym razem kolejność. Pary w kolejnej iteracji łącza się w coraz większe grupy, aż cała lista jest posortowana.\n",
    "\n",
    "\n",
    "Algorytm zaczyna od znalezienia środka listy (środkowego indeksu). Następnie wyznaczana jest lewa strona listy (od początku do elementu środkowego) oraz prawa strona listy (od środkowego elementu do samego końca).\n",
    "\n",
    "Dzięki rekurencji następuje dzielenie uzyskanych w ten sposób list na pomniejsze kawałki, aż zostanie tylko pojedynczy element zarówno w liście lewej i prawej. Od tego momentu zaczyna się sortowanie listy. Jeżeli element z listy lewej jest mniejszy od elementu z listy prawej, to zostaje on włożony do listy, a wskaźnik listy sortowanej oraz listy lewej przesuwa się o jeden. Natomiast jeżeli wartość z listy prawej jest większa, to ona trafia do sortowanej listy i zwiększają się wskaźniki listy prawej i listy sortowanej. \n",
    "\n",
    "Operacja sortowania wykonuje się do momentu, aż w którejś liście nie zabraknie elementów. Jeżeli trafi się taka sytuacja, to pozostałe elementy z listy prawej lub lewej są dodawane do listy sortowanej, aż do momentu opróżnienia listy.\n",
    "\n",
    "Wynikiem powyższych operacji jest uzyskanie listy posortowanej rosnąco."
   ]
  },
  {
   "cell_type": "code",
   "execution_count": 105,
   "metadata": {},
   "outputs": [],
   "source": [
    "def mergeSort(lista):\n",
    "    if len(lista) > 1: #jeżeli lista ma długość równą 1, to nie da się jej bardziej podzielić\n",
    "        mid = len(lista) // 2 #znalezienie środka listy poprzez podzielenie długośi listy przez dwa i zaokrąglenie w dół\n",
    "\n",
    "        left = lista[:mid] #lewa strona, to lista do środkowego elementu\n",
    "        right = lista[mid:] #prawa strona, to lista od środkowego elementu\n",
    "\n",
    "        mergeSort(left) #wywołanie funkcji ponownie dla lewej strony\n",
    "        mergeSort(right) #wywołanie funkcji ponownie dla prawej strony\n",
    "\n",
    "        i = j = k = 0 #wartości pomocniczne służące do przeszukiwania poszczególnych elementów tablic\n",
    "        while i < len(left) and j < len(right): #wykonujemy pętlę dopóki znajdują się elementy zarówno po lewej i prawej stronie\n",
    "            if left[i] <= right[j]: #jeżeli element z lewej strony jest mniejszy lub równy prawemu, to powinien trafić w obecny element sortowanej listy\n",
    "                lista[k] = left[i] #jeżeli spełniony został warunek, to obecny element z lewej strony trafia na miejsce sortowanej listy.\n",
    "                i += 1 #przejście o jeden indeks do przodu dla lewej strony\n",
    "            else:\n",
    "                lista[k] = right[j] #jeżeli warunek nie został spełniony, to element z listy prawej trafia w obecny element sortowanej listy\n",
    "                j += 1 #przejście o jeden indeks do przodu dla prawej strony\n",
    "            k += 1 #przejście o jeden indeks do przodu dla sortowanej listy\n",
    "        \n",
    "        while i < len(left): #pętla dodająca do sortowanej listy pozostałe elementy z lewej strony\n",
    "            lista[k] = left[i]\n",
    "            i += 1\n",
    "            k += 1 \n",
    "        \n",
    "        while j < len(right): #pętla dodająca do sortowanej listy pozostałe element z prawej strony\n",
    "            lista[k] = right[j]\n",
    "            j += 1\n",
    "            k += 1\n",
    "    print(lista)"
   ]
  },
  {
   "cell_type": "code",
   "execution_count": null,
   "metadata": {},
   "outputs": [],
   "source": [
    "lista = [5,4,3,2,1,10,15,11,13,14,18,19,20,23,26,27]\n",
    "print(lista)\n",
    "mergeSort(lista)"
   ]
  },
  {
   "attachments": {},
   "cell_type": "markdown",
   "metadata": {},
   "source": [
    "Quick sort to algorym sortowania, który wykorzystuje metodę dziel i zwyciężaj.\n",
    "\n",
    "Z przekazanej listy wybierania jest wartość względem (tak zwany pivot), której pozostałe elementy listy będądzielone na lewą i prawą stronę. Elementy większe od pivotu znajdą się po prawej stronie natomiast elementy mniejsze od pivotu będą po stronie lewej. \n",
    "\n",
    "Rozważając przypadek, w którym pivot jest zawsze elementem ostatnim listy.\n",
    "\n",
    "W przeciągu jednego wywołania funkcji następuje przejście przez wszystkie elementy listy przy pomocy dwóch wskaźników. Pierwszy wskaźnik zaczyna od samego początku i rośnie wraz z przechodzeniem po kolejnych elementach. Drugi wskaźnik natomiast zaczyna od elementu z indeksem o 1 mniejszym od pivotu i przechodzi o jeden w dół. Oba wskaźniki wyszukują elementów, które nie znajdują się po \"poprawnej\" stronie listy.\n",
    "\n",
    "Wskaźnik zaczynający od samego początku (można go nazwać na przykład low) przechodzi przez elementy, aż do momentu znalezienia wartości, która jest większa od pivotu (powinna znajdować się po prawej stronie).\n",
    "\n",
    "Wskaźnik zaczynający od końca (można go nazwać na przykład high) przechodzi przez elementy, aż do momentu znalezienia wartości, która jest mniejsza od pivotu (powinna się znajdować po lewej stronie). W tym momencie następuje zamiana miejscami obu elementów, na które wskazują wskaźniki low i high.\n",
    "\n",
    "Pętla jest wykonywana do momentu, aż wskaźniki low i high się nie przetną (nie będą miały tych samych wartości lub wskaźnik low będzie większy od high). Oznacza to, że nastąpiło przejście przez wszystkie elementy i można wyjść z pętli.\n",
    "\n",
    "Na zakończenie dzialania następuje zamiana miejscami elementów ze wskaźnikiem low oraz elementem, który przechowuje wartość pivot.\n",
    "Do dalszego wykorzystania zwracana jest wartość wskaźnika low (Quick Sort wykorzystuje rekurencję, więc zostanie ona wykorzystana w dalszych wywołaniach)\n",
    "\n",
    "Następnie osobno wywoływane są funkcje sortujące elementy na lewo od zwróconego wskaźnika oraz na prawo od zwróconego wskaźnika."
   ]
  },
  {
   "cell_type": "code",
   "execution_count": 32,
   "metadata": {},
   "outputs": [],
   "source": [
    "def pivot(arr, start, end): #funkcja służąca do dzielenia listy\n",
    "    pivot = arr[end] #w podanym rozwiązaniu za pivot przyjęty zostaje zawsze ostatni element przekazanej listy\n",
    "    low = start #najniższy element listy jest równy przekazanej wartości start\n",
    "    high = end - 1 #najwyższy element listy jest o jeden indeks poniżej pivotu (nie ma sensu zaczynać od pivotu, bo wtedy high byłby równy pivotowi)\n",
    "\n",
    "    while True:\n",
    "        while low <= high and arr[low] <= pivot: #przechodzimy przez listę od lewej strony aż do momentu przecięcia ze wskaźnikiem high lub znalezienia elementu, który powinien być po prawej stronie\n",
    "            low += 1 \n",
    "\n",
    "        while low <= high and arr[high] >= pivot: #przechodzimy przez listę od prawej strony do lewej, aż do momentu przecięcia ze wskaźnikiem low lub znalezienia elementu, który powinien być po lewej stronie\n",
    "            high -= 1\n",
    "\n",
    "        if low <= high:\n",
    "            arr[low], arr[high] = arr[high], arr[low] #operacja wykona się po przejściu obu pętli while i znalezieniu elementów, które powinny zostać zamienione miejscami\n",
    "        else:\n",
    "            break #jeżeli wskaźniki się przecieły to wychodzimy z pętli\n",
    "    arr[low],arr[end] = arr[end], arr[low] #na sam koniec wywołania funkcji zamieniamy miejscami, element, do którego doszedł wskaźnik low wraz z elementem, który przechowuje wartość pivot.\n",
    "    return low #na sam koniec zostaje zwrócona wartość low (nie mylić z indeksem), do której doszła funkcja. Zostanie ona wykorzystana przy rekurencji\n",
    "\n",
    "def quickSort(arr, start, end):\n",
    "    if start < end: #Quick Sort wykorzystuje rekurencję, więc chcemy, żeby funkcje się wykonywały do momentu przecięcia wskaźnika start ze wskaźnikiem end.\n",
    "        piv = pivot(arr, start, end) #najpierw obliczona zostaje wartość pivot, która posłuży do dalszego sortowania lewej i prawej strony\n",
    "        quickSort(arr, start, piv - 1) #lewa strona zaczyna się od wskaźnika start, do elementu o indeksie o jeden mniejszym od obliczonego pivotu\n",
    "        quickSort(arr, piv + 1, end) #prawa strona zaczyna się od wskaźnika o jeden większy od pivotu do samego końca listy.\n",
    "\n",
    "\n",
    "arr = [8,1,2,9,3,5]\n",
    "quickSort(arr, 0, len(arr) - 1)\n",
    "\n"
   ]
  },
  {
   "attachments": {},
   "cell_type": "markdown",
   "metadata": {},
   "source": [
    "1. Zadanie dodatkowe. Napisz rekurencyjnie algorytm sortowania bubble sort."
   ]
  },
  {
   "cell_type": "code",
   "execution_count": 7,
   "metadata": {},
   "outputs": [
    {
     "name": "stdout",
     "output_type": "stream",
     "text": [
      "[1, 1, 3, 6, 6, 7, 23, 43, 45, 54, 54, 54, 54, 56, 324, 354, 436, 436, 654, 654, 658, 765, 867, 987, 4356, 543215]\n"
     ]
    }
   ],
   "source": [
    "def bubble_sort(lista, n):\n",
    "    if n == 0 :\n",
    "        return \n",
    "    \n",
    "    for i in range(0, n):\n",
    "        if lista[i] > lista[i + 1]:\n",
    "            lista[i], lista[i + 1] = lista[i+1], lista[i]\n",
    "    \n",
    "    bubble_sort(lista, n - 1)\n",
    "\n",
    "lista = [1,324,23,54,354,3,436,436,54,54,765,7,658,543215,56,867,987,6,45,654,654,54,6,4356,43,1]\n",
    "\n",
    "bubble_sort(lista, len(lista) - 1)\n",
    "print(lista)"
   ]
  },
  {
   "attachments": {},
   "cell_type": "markdown",
   "metadata": {},
   "source": [
    "2. Napisz funkcję, która posortuje poniższą macierz.\n",
    "\n",
    "    [6,8,10,7,9],\n",
    "    [1,3,5,2,4],\n",
    "    [11,13,15,12,14],\n",
    "    [16,18,20,17,19]\n",
    "\n",
    "    Oczekiwany rezultat\n",
    "\n",
    "    [0,1,2,3,4],\n",
    "    [5,6,7,8,9,10],\n",
    "    [11,12,13,14,15],\n",
    "    [16,17,18,19,20]"
   ]
  },
  {
   "cell_type": "code",
   "execution_count": 27,
   "metadata": {},
   "outputs": [
    {
     "name": "stdout",
     "output_type": "stream",
     "text": [
      "[[1, 2, 3, 4, 5], [6, 7, 8, 9, 10], [11, 12, 13, 14, 15], [16, 17, 18, 19, 20]]\n"
     ]
    }
   ],
   "source": [
    "matrix = [\n",
    "    [6,8,10,7,9],\n",
    "    [1,3,5,2,4],\n",
    "    [11,13,15,12,14],\n",
    "    [16,18,20,17,19]\n",
    "]\n",
    "\n",
    "def bubble_sort_matrix(matrix):\n",
    "    for i in range(0, len(matrix)):\n",
    "        for j in range(0, len(matrix[i])):\n",
    "            for k in range(0, len(matrix)):\n",
    "                for l in range(0, len(matrix[k])):\n",
    "                    if matrix[i][j] < matrix[k][l]:\n",
    "                       matrix[k][l], matrix[i][j],  =  matrix[i][j], matrix[k][l]\n",
    "    return matrix\n",
    "\n",
    "print(bubble_sort_matrix(matrix))"
   ]
  }
 ],
 "metadata": {
  "kernelspec": {
   "display_name": "aisd",
   "language": "python",
   "name": "python3"
  },
  "language_info": {
   "codemirror_mode": {
    "name": "ipython",
    "version": 3
   },
   "file_extension": ".py",
   "mimetype": "text/x-python",
   "name": "python",
   "nbconvert_exporter": "python",
   "pygments_lexer": "ipython3",
   "version": "3.11.0"
  },
  "orig_nbformat": 4
 },
 "nbformat": 4,
 "nbformat_minor": 2
}
