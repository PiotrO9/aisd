{
 "cells": [
  {
   "attachments": {},
   "cell_type": "markdown",
   "metadata": {},
   "source": [
    "Złożoność obliczeniowa algorytmu to ilość zasobów komputerowych potrzebnych do jego wykonania"
   ]
  },
  {
   "attachments": {},
   "cell_type": "markdown",
   "metadata": {},
   "source": [
    "Złożoność czasowa – to ilość czasu potrzebnego do wykonania zadania, wyrażona jako funkcja ilości danych.\n",
    "\n",
    "Złożoność pamięciowa – to ilość pamięci potrzebnej do wykonania zadania, wyrażona jako funkcja ilości danych."
   ]
  },
  {
   "attachments": {},
   "cell_type": "markdown",
   "metadata": {},
   "source": [
    "Można wyróżnić trzy typy złożoności:\n",
    "\n",
    "- złożoność pesymistyczną - ilość zasobów potrzebnych do wykonania algorytmu przy założeniu najbardziej \"złośliwych/najgorszych\" danych,\n",
    "- złożoność oczekiwaną  - ilość zasobów potrzebnych do wykonania algorytmu przy założeniu \"typowych\" (statystycznie oczekiwanych) danych wejściowych,\n",
    "- złożoność optymistyczną - ilość zasobów potrzebnych do wykonania algorytmu przy założeniu \"najlepszych\" danych.\n"
   ]
  },
  {
   "attachments": {},
   "cell_type": "markdown",
   "metadata": {},
   "source": [
    "•\tstała - Θ(1) - gdy czas wykonania algorytmu jest stały i niezależny od rozmiaru danych wejściowych,\n",
    "\n",
    "•\tlogarytmiczna - Θ(log n) - kiedy czas ten rośnie logarytmiczne wraz ze wzrostem wielkości danych. Logarytm jest niemal zawsze o podstawie 2 (w przypadku notacji asymptotycznych nie ma to aczkolwiek znaczenia, bowiem podstawa logarytmu może być zmieniona poprzez pomnożenie przez czynnik stały,\n",
    "\n",
    "•\tliniowa - Θ(n) - czas działania jest proporcjonalny do rozmiaru danych wejściowych,\n",
    "\n",
    "•\tliniowo-logarytmiczna - Θ(n log n) - złożoność jest iloczynem funkcji liniowej i logarytmicznej,\n",
    "\n",
    "•\tkwadratowa - Θ(n2) - liczba instrukcji algorytmu rośnie proporcjonalnie do kwadratu rozmiaru danych wejściowych,\n",
    "\n",
    "•\tsześcienna - Θ(n3) - liczba instrukcji algorytmu rośnie proporcjonalnie do sześcianu rozmiaru danych wejściowych,\n",
    "\n",
    "•\twielomianowa - Θ(nr + nr-1 + ... + n1) - liczba instrukcji algorytmu rośnie proporcjonalnie do pewnego wielomianu rozmiaru danych wejściowych,\n",
    "\n",
    "•\twykładnicza - Θ(2n) - czas wykonania rośnie wykładniczo względem rozmiaru danych,\n",
    "\n",
    "•\tsilni - Θ(n!) - czas wykonania rośnie z szybkością silni względem rozmiaru danych.\n"
   ]
  },
  {
   "cell_type": "code",
   "execution_count": 26,
   "metadata": {},
   "outputs": [],
   "source": [
    "from math import sqrt, floor\n",
    "\n",
    "def jump_search(lista, value):\n",
    "    length = len(lista)\n",
    "    jump = floor(sqrt(length))\n",
    "    previous_step = 0\n",
    "\n",
    "    while lista[min(jump, length - 1)] < value:\n",
    "        previous_step = jump\n",
    "        jump += floor(sqrt(length))\n",
    "        if previous_step > length:\n",
    "            return None\n",
    "    for i in range(previous_step, min(jump, length - 1) + 1):\n",
    "        if lista[i] == value:\n",
    "            return i\n",
    "    return None"
   ]
  },
  {
   "cell_type": "code",
   "execution_count": null,
   "metadata": {},
   "outputs": [],
   "source": [
    "import random\n",
    "from time import perf_counter\n",
    "import matplotlib.pyplot as plt\n",
    "list_length = []\n",
    "time = []\n",
    "\n",
    "for i in range(1, 10000):\n",
    "    lista = random.sample(range(1000000), i)\n",
    "    end = len(lista) - 1 \n",
    "    find = i *  100 + 34367\n",
    "    start_time = perf_counter()\n",
    "    jump_search(lista, find)\n",
    "\n",
    "    end_time = perf_counter()\n",
    "\n",
    "    result = end_time - start_time\n",
    "    list_length.append(i)\n",
    "    time.append(result)\n",
    "\n",
    "plt.plot(list_length, time)\n",
    "plt.show()\n"
   ]
  }
 ],
 "metadata": {
  "kernelspec": {
   "display_name": "aisd",
   "language": "python",
   "name": "python3"
  },
  "language_info": {
   "codemirror_mode": {
    "name": "ipython",
    "version": 3
   },
   "file_extension": ".py",
   "mimetype": "text/x-python",
   "name": "python",
   "nbconvert_exporter": "python",
   "pygments_lexer": "ipython3",
   "version": "3.11.0"
  },
  "orig_nbformat": 4
 },
 "nbformat": 4,
 "nbformat_minor": 2
}
